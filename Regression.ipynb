{
  "nbformat": 4,
  "nbformat_minor": 0,
  "metadata": {
    "colab": {
      "provenance": [],
      "authorship_tag": "ABX9TyOhWuCYg78mRH+5Z0SnbiXJ",
      "include_colab_link": true
    },
    "kernelspec": {
      "name": "python3",
      "display_name": "Python 3"
    },
    "language_info": {
      "name": "python"
    }
  },
  "cells": [
    {
      "cell_type": "markdown",
      "metadata": {
        "id": "view-in-github",
        "colab_type": "text"
      },
      "source": [
        "<a href=\"https://colab.research.google.com/github/a-edel/Data-Science-with-Python-Homework/blob/main/Regression.ipynb\" target=\"_parent\"><img src=\"https://colab.research.google.com/assets/colab-badge.svg\" alt=\"Open In Colab\"/></a>"
      ]
    },
    {
      "cell_type": "code",
      "source": [
        "import pandas as pd\n",
        "import numpy as np\n",
        "from sklearn.model_selection import train_test_split\n",
        "from sklearn.linear_model import LinearRegression\n",
        "\n",
        "column_names = [\n",
        "    \"symboling\", \"normalized-losses\", \"make\", \"fuel-type\", \"aspiration\",\n",
        "    \"num-of-doors\", \"body-style\", \"drive-wheels\", \"engine-location\",\n",
        "    \"wheel-base\", \"length\", \"width\", \"height\", \"curb-weight\",\n",
        "    \"engine-type\", \"num-of-cylinders\", \"engine-size\", \"fuel-system\",\n",
        "    \"bore\", \"stroke\", \"compression-ratio\", \"horsepower\", \"peak-rpm\",\n",
        "    \"city-mpg\", \"highway-mpg\", \"price\"\n",
        "]\n",
        "automobile_df = pd.read_csv(\"https://raw.githubusercontent.com/a-edel/Data-Science-with-Python-Homework/main/imports-85.data\", names=column_names)\n",
        "automobile_df.columns = automobile_df.columns.str.capitalize()\n",
        "\n",
        "automobile_df['Horsepower'] = pd.to_numeric(automobile_df['Horsepower'], errors='coerce')\n",
        "automobile_df.replace('?', np.nan, inplace=True)\n",
        "automobile_df.dropna(inplace=True)\n",
        "\n",
        "X = automobile_df[['Horsepower']]\n",
        "Y = automobile_df['Highway-mpg']\n",
        "\n",
        "x_train, x_test, y_train, y_test = train_test_split(X, Y, test_size=0.2, random_state=42)\n",
        "\n",
        "reg = LinearRegression().fit(x_train, y_train)\n",
        "y_pred = reg.predict(x_test)\n",
        "print(y_pred)"
      ],
      "metadata": {
        "id": "4mvPWVHcCqNr",
        "colab": {
          "base_uri": "https://localhost:8080/"
        },
        "outputId": "cf4d1b96-4e0b-453d-91a2-e6a4ae70d383"
      },
      "execution_count": null,
      "outputs": [
        {
          "output_type": "stream",
          "name": "stdout",
          "text": [
            "[31.88778775 20.51900132 28.21479521 33.11211859 29.26422165 33.46192741\n",
            " 32.76230978 36.61020673 35.73568469 33.63683181 38.35925079 38.88396401\n",
            " 36.61020673 36.43530232 35.21097147 30.83836131 28.21479521 34.16154503\n",
            " 20.51900132 36.61020673 28.56460402 23.14256742 36.61020673 36.26039791\n",
            " 31.01326572 28.91441284 20.51900132 33.11211859 36.61020673 20.16919251\n",
            " 32.41250097 20.51900132]\n"
          ]
        }
      ]
    },
    {
      "cell_type": "code",
      "source": [
        "from sklearn.metrics import r2_score\n",
        "\n",
        "print(\"r2_score: \", r2_score(y_test, y_pred))"
      ],
      "metadata": {
        "id": "5D4Lt_IS7xCZ",
        "colab": {
          "base_uri": "https://localhost:8080/"
        },
        "outputId": "43c18c32-f068-4cc8-a000-bad083717cf2"
      },
      "execution_count": null,
      "outputs": [
        {
          "output_type": "stream",
          "name": "stdout",
          "text": [
            "r2_score:  0.6138533906458368\n"
          ]
        }
      ]
    },
    {
      "cell_type": "code",
      "source": [
        "import matplotlib.pyplot as plt\n",
        "\n",
        "plt.figure(figsize=(8,8))\n",
        "\n",
        "plt.plot(x_train_list, y_train_list, \"o\", c=\"y\")\n",
        "plt.xlim(min(x_train_list) - 5, max(x_train_list) + 5)\n",
        "\n",
        "plt.plot(x_test, y_pred, linewidth=2, color =\"g\", linestyle=\"-\", label=\"linear regression\")\n",
        "\n",
        "plt.show()\n"
      ],
      "metadata": {
        "id": "81s8537z8Hj4",
        "colab": {
          "base_uri": "https://localhost:8080/",
          "height": 676
        },
        "outputId": "4ff81c7e-4c35-4799-9e8d-a3f49f25a988"
      },
      "execution_count": null,
      "outputs": [
        {
          "output_type": "display_data",
          "data": {
            "text/plain": [
              "<Figure size 800x800 with 1 Axes>"
            ],
            "image/png": "[encoded data removed]"
          },
          "metadata": {}
        }
      ]
    },
    {
      "cell_type": "code",
      "source": [
        "from sklearn.preprocessing import KBinsDiscretizer\n",
        "\n",
        "enc = KBinsDiscretizer(n_bins=20, encode='ordinal')\n",
        "\n",
        "x_binned = enc.fit_transform(x_train)\n",
        "x_binned[:10]"
      ],
      "metadata": {
        "id": "Pd0VkfUe_S_u",
        "colab": {
          "base_uri": "https://localhost:8080/"
        },
        "outputId": "46062957-0bba-476d-88e7-d123d5818cdc"
      },
      "execution_count": null,
      "outputs": [
        {
          "output_type": "stream",
          "name": "stderr",
          "text": [
            "/usr/local/lib/python3.10/dist-packages/sklearn/preprocessing/_discretization.py:279: UserWarning: Bins whose width are too small (i.e., <= 1e-8) in feature 0 are removed. Consider decreasing the number of bins.\n",
            "  warnings.warn(\n"
          ]
        },
        {
          "output_type": "execute_result",
          "data": {
            "text/plain": [
              "array([[17.],\n",
              "       [17.],\n",
              "       [11.],\n",
              "       [ 2.],\n",
              "       [15.],\n",
              "       [ 6.],\n",
              "       [ 3.],\n",
              "       [ 0.],\n",
              "       [ 7.],\n",
              "       [17.]])"
            ]
          },
          "metadata": {},
          "execution_count": 41
        }
      ]
    },
    {
      "cell_type": "code",
      "source": [
        "x_test_binned = enc.transform(x_test)\n",
        "\n",
        "reg = LinearRegression().fit(x_binned, y_train)\n",
        "\n",
        "y_pred = reg.predict(x_test_binned)\n",
        "\n",
        "print(y_pred)"
      ],
      "metadata": {
        "id": "MZpUapKMA1Lz",
        "colab": {
          "base_uri": "https://localhost:8080/"
        },
        "outputId": "46f5bd72-d8dc-4934-c4d8-c5ab0636a460"
      },
      "execution_count": null,
      "outputs": [
        {
          "output_type": "stream",
          "name": "stdout",
          "text": [
            "[30.94907221 22.84784261 25.88580371 31.96172591 28.92376481 32.97437961\n",
            " 31.96172591 38.03764811 36.01234071 32.97437961 40.06295551 40.06295551\n",
            " 38.03764811 37.02499441 34.99968701 29.93641851 25.88580371 33.98703331\n",
            " 22.84784261 38.03764811 26.89845741 23.86049631 38.03764811 36.01234071\n",
            " 29.93641851 27.91111111 22.84784261 31.96172591 38.03764811 22.84784261\n",
            " 31.96172591 22.84784261]\n"
          ]
        }
      ]
    },
    {
      "cell_type": "code",
      "source": [
        "r2_score(y_test, y_pred)"
      ],
      "metadata": {
        "colab": {
          "base_uri": "https://localhost:8080/"
        },
        "id": "sdUp8DunHygO",
        "outputId": "18ccc82e-d6f3-49b4-fc5f-e2e24511b99c"
      },
      "execution_count": null,
      "outputs": [
        {
          "output_type": "execute_result",
          "data": {
            "text/plain": [
              "0.7045851141742747"
            ]
          },
          "metadata": {},
          "execution_count": 43
        }
      ]
    },
    {
      "cell_type": "code",
      "source": [
        "plt.figure(figsize=(8, 8))\n",
        "\n",
        "plt.scatter(x_train, y_train, c=\"y\")\n",
        "plt.scatter(x_test, y_pred, color=\"k\")\n",
        "\n",
        "plt.vlines(enc.bin_edges_[0], *plt.gca().get_ylim(), linewidth=1, alpha=.2)\n",
        "\n",
        "plt.show()"
      ],
      "metadata": {
        "colab": {
          "base_uri": "https://localhost:8080/",
          "height": 676
        },
        "id": "VbmSB8aVIK0n",
        "outputId": "dbcdf527-c91d-407b-aca7-27de2d1a10b1"
      },
      "execution_count": null,
      "outputs": [
        {
          "output_type": "display_data",
          "data": {
            "text/plain": [
              "<Figure size 800x800 with 1 Axes>"
            ],
            "image/png": "[encoded data removed]"
          },
          "metadata": {}
        }
      ]
    },
    {
      "cell_type": "code",
      "source": [
        "enc = KBinsDiscretizer(n_bins=20, encode=\"onehot\")\n",
        "\n",
        "x_binned = enc.fit_transform(x_train)\n",
        "\n",
        "x_binned.toarray()[:10]"
      ],
      "metadata": {
        "colab": {
          "base_uri": "https://localhost:8080/"
        },
        "id": "6Ij1N63IJpSk",
        "outputId": "4f02f266-526a-40af-c4d6-a9718183150a"
      },
      "execution_count": null,
      "outputs": [
        {
          "output_type": "stream",
          "name": "stderr",
          "text": [
            "/usr/local/lib/python3.10/dist-packages/sklearn/preprocessing/_discretization.py:279: UserWarning: Bins whose width are too small (i.e., <= 1e-8) in feature 0 are removed. Consider decreasing the number of bins.\n",
            "  warnings.warn(\n"
          ]
        },
        {
          "output_type": "execute_result",
          "data": {
            "text/plain": [
              "array([[0., 0., 0., 0., 0., 0., 0., 0., 0., 0., 0., 0., 0., 0., 0., 0.,\n",
              "        0., 1.],\n",
              "       [0., 0., 0., 0., 0., 0., 0., 0., 0., 0., 0., 0., 0., 0., 0., 0.,\n",
              "        0., 1.],\n",
              "       [0., 0., 0., 0., 0., 0., 0., 0., 0., 0., 0., 1., 0., 0., 0., 0.,\n",
              "        0., 0.],\n",
              "       [0., 0., 1., 0., 0., 0., 0., 0., 0., 0., 0., 0., 0., 0., 0., 0.,\n",
              "        0., 0.],\n",
              "       [0., 0., 0., 0., 0., 0., 0., 0., 0., 0., 0., 0., 0., 0., 0., 1.,\n",
              "        0., 0.],\n",
              "       [0., 0., 0., 0., 0., 0., 1., 0., 0., 0., 0., 0., 0., 0., 0., 0.,\n",
              "        0., 0.],\n",
              "       [0., 0., 0., 1., 0., 0., 0., 0., 0., 0., 0., 0., 0., 0., 0., 0.,\n",
              "        0., 0.],\n",
              "       [1., 0., 0., 0., 0., 0., 0., 0., 0., 0., 0., 0., 0., 0., 0., 0.,\n",
              "        0., 0.],\n",
              "       [0., 0., 0., 0., 0., 0., 0., 1., 0., 0., 0., 0., 0., 0., 0., 0.,\n",
              "        0., 0.],\n",
              "       [0., 0., 0., 0., 0., 0., 0., 0., 0., 0., 0., 0., 0., 0., 0., 0.,\n",
              "        0., 1.]])"
            ]
          },
          "metadata": {},
          "execution_count": 45
        }
      ]
    },
    {
      "cell_type": "code",
      "source": [
        "x_test_binned = enc.transform(x_test)\n",
        "\n",
        "reg = LinearRegression().fit(x_binned, y_train)\n",
        "\n",
        "y_pred = reg.predict(x_test_binned)\n",
        "\n",
        "y_pred"
      ],
      "metadata": {
        "colab": {
          "base_uri": "https://localhost:8080/"
        },
        "id": "xta26tb4LqV8",
        "outputId": "17d4014c-8d9f-495d-dbf9-c742362d5a17"
      },
      "execution_count": null,
      "outputs": [
        {
          "output_type": "execute_result",
          "data": {
            "text/plain": [
              "array([29.99999733, 22.99999362, 29.30000238, 31.62498593, 28.44444634,\n",
              "       33.4000091 , 31.62498593, 38.15384617, 36.4000017 , 33.4000091 ,\n",
              "       45.00000111, 45.00000111, 38.15384617, 36.88888658, 34.99999863,\n",
              "       29.42857119, 29.30000238, 31.44444485, 22.99999362, 38.15384617,\n",
              "       26.50000329, 23.0000037 , 38.15384617, 36.4000017 , 29.42857119,\n",
              "       27.00000094, 22.99999362, 31.62498593, 38.15384617, 22.99999362,\n",
              "       31.62498593, 22.99999362])"
            ]
          },
          "metadata": {},
          "execution_count": 46
        }
      ]
    },
    {
      "cell_type": "code",
      "source": [
        "r2_score(y_test, y_pred)"
      ],
      "metadata": {
        "colab": {
          "base_uri": "https://localhost:8080/"
        },
        "id": "rcwN7BdYMUZf",
        "outputId": "3f94b89e-b91a-4238-dfb2-f7d10b66bc82"
      },
      "execution_count": null,
      "outputs": [
        {
          "output_type": "execute_result",
          "data": {
            "text/plain": [
              "0.8406435987660145"
            ]
          },
          "metadata": {},
          "execution_count": 48
        }
      ]
    }
  ]
}